{
 "cells": [
  {
   "cell_type": "code",
   "execution_count": 1,
   "metadata": {},
   "outputs": [],
   "source": [
    "from KitaevHoneycomb import run_atomic, save_data, KitaevHoneycombModel"
   ]
  },
  {
   "cell_type": "code",
   "execution_count": 2,
   "metadata": {},
   "outputs": [],
   "source": [
    "import numpy as np\n",
    "\n",
    "import matplotlib.pyplot as plt"
   ]
  },
  {
   "cell_type": "markdown",
   "metadata": {},
   "source": [
    "Test if the model is implemented by pure real numbers"
   ]
  },
  {
   "cell_type": "code",
   "execution_count": 24,
   "metadata": {},
   "outputs": [],
   "source": [
    "Jx = 1.0\n",
    "Jy = 1.0\n",
    "Jz = 1.0\n",
    "\n",
    "# isotropic\n",
    "J = 1.0\n",
    "\n",
    "S = 0.5\n",
    "conserve='parity'\n",
    "Lx = 4\n",
    "Ly = 3\n",
    "shift = 0\n",
    "bc = 'periodic'\n",
    "bc_MPS = 'infinite'\n",
    "verbose=1\n",
    "order='Cstyle'\n",
    "dtype=float"
   ]
  },
  {
   "cell_type": "code",
   "execution_count": 25,
   "metadata": {},
   "outputs": [
    {
     "name": "stdout",
     "output_type": "stream",
     "text": [
      "Reading 'Lx'=4 for config KitaevHoneycombModel\n",
      "Reading 'Ly'=3 for config KitaevHoneycombModel\n",
      "Reading 'conserve'='parity' for config KitaevHoneycombModel\n",
      "Reading 'S'=0.5 for config KitaevHoneycombModel\n",
      "Reading 'order'='Cstyle' for config KitaevHoneycombModel\n",
      "Reading 'bc'='periodic' for config KitaevHoneycombModel\n",
      "Reading 'shift'=0 for config KitaevHoneycombModel\n",
      "Reading 'bc_MPS'='infinite' for config KitaevHoneycombModel\n",
      "Reading 'Jx'=1.0 for config KitaevHoneycombModel\n",
      "Reading 'Jy'=1.0 for config KitaevHoneycombModel\n",
      "Reading 'Jz'=1.0 for config KitaevHoneycombModel\n"
     ]
    },
    {
     "name": "stderr",
     "output_type": "stream",
     "text": [
      "/home/jerry/anaconda3/lib/python3.7/site-packages/tenpy/tools/params.py:225: UserWarning: unused option ['dtype'] for config KitaevHoneycombModel\n",
      "\n",
      "  warnings.warn(msg.format(keys=sorted(unused), name=self.name))\n"
     ]
    }
   ],
   "source": [
    "\n",
    "\n",
    "\n",
    "model_params = dict(\n",
    "    conserve=conserve, \n",
    "    Jx=Jx, \n",
    "    Jy=Jy, \n",
    "    Jz=Jz, \n",
    "    Lx=Lx, \n",
    "    Ly=Ly, \n",
    "    S=S,\n",
    "    shift=shift,\n",
    "    verbose=verbose,\n",
    "    bc=bc,\n",
    "    bc_MPS=bc_MPS,\n",
    "    order=order,\n",
    "    dtype=dtype,\n",
    "    )\n",
    "\n",
    "L = Lx*Ly # the number of unicells\n",
    "# initialize the model\n",
    "M = KitaevHoneycombModel(model_params)"
   ]
  },
  {
   "cell_type": "code",
   "execution_count": 36,
   "metadata": {},
   "outputs": [],
   "source": [
    "mpo = M.calc_H_MPO()"
   ]
  },
  {
   "cell_type": "code",
   "execution_count": 39,
   "metadata": {},
   "outputs": [
    {
     "data": {
      "text/plain": [
       "0"
      ]
     },
     "execution_count": 39,
     "metadata": {},
     "output_type": "execute_result"
    }
   ],
   "source": [
    "mpo.get_IdL(3)"
   ]
  },
  {
   "cell_type": "code",
   "execution_count": null,
   "metadata": {},
   "outputs": [],
   "source": []
  }
 ],
 "metadata": {
  "kernelspec": {
   "display_name": "Python 3",
   "language": "python",
   "name": "python3"
  },
  "language_info": {
   "codemirror_mode": {
    "name": "ipython",
    "version": 3
   },
   "file_extension": ".py",
   "mimetype": "text/x-python",
   "name": "python",
   "nbconvert_exporter": "python",
   "pygments_lexer": "ipython3",
   "version": "3.7.7"
  }
 },
 "nbformat": 4,
 "nbformat_minor": 4
}
